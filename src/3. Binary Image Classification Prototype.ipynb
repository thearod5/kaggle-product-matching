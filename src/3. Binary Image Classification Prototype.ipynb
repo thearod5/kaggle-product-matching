{
 "cells": [
  {
   "cell_type": "markdown",
   "metadata": {},
   "source": [
    "# Binary Image Classification\n",
    "The following notebook is responsible for demonstrating how one would go about creating and evaluating a model using the two image generator. Namely, "
   ]
  },
  {
   "cell_type": "code",
   "execution_count": 1,
   "metadata": {},
   "outputs": [],
   "source": [
    "import tensorflow as tf\n",
    "import scipy\n",
    "import numpy as np\n",
    "import pandas as pd\n",
    "import keras\n",
    "\n",
    "from matplotlib import pyplot as plt\n",
    "from tensorflow.keras import datasets, layers, models\n",
    "from mpl_toolkits.axes_grid1 import ImageGrid\n",
    "\n",
    "from preprocessing.data_generator import CustomGen\n",
    "from meta.paths import PATH_TO_TRAIN_PAIRS, PATH_TO_TEST_PAIRS\n",
    "from models.prototype import create_model"
   ]
  },
  {
   "cell_type": "code",
   "execution_count": 3,
   "metadata": {},
   "outputs": [],
   "source": [
    "BATCH_SIZE = 32\n",
    "IMAGE_SIZE = (100, 100)\n",
    "IMAGE_SHAPE = IMAGE_SIZE + (3,)\n",
    "EPOCHS = 1\n",
    "FIT_AND_SAVE = False"
   ]
  },
  {
   "cell_type": "markdown",
   "metadata": {},
   "source": [
    "# Create and Traing Model"
   ]
  },
  {
   "cell_type": "code",
   "execution_count": 4,
   "metadata": {},
   "outputs": [
    {
     "name": "stdout",
     "output_type": "stream",
     "text": [
      "Found 119502 validated image filenames belonging to 2 classes.\n",
      "Found 119502 validated image filenames belonging to 2 classes.\n"
     ]
    }
   ],
   "source": [
    "if FIT_AND_SAVE: # creates a model from scratch and saves it\n",
    "    train_pairs_df = pd.read_csv(PATH_TO_TRAIN_PAIRS) \n",
    "    train_generator = CustomGen(train_pairs_df,\n",
    "                                shuffle=True, \n",
    "                                batch_size=BATCH_SIZE, \n",
    "                                image_size=IMAGE_SIZE)\n",
    "    model = create_model(IMAGE_SHAPE)\n",
    "    history = model.fit(train_generator, \n",
    "                        epochs=EPOCHS, \n",
    "                        batch_size=BATCH_SIZE)\n",
    "    model.save(\"model.h5\")\n",
    "else:  # loads previous run\n",
    "    model = keras.models.load_model(\"model.h5\")"
   ]
  },
  {
   "cell_type": "markdown",
   "metadata": {},
   "source": [
    "# Test Model"
   ]
  },
  {
   "cell_type": "code",
   "execution_count": 5,
   "metadata": {},
   "outputs": [
    {
     "name": "stdout",
     "output_type": "stream",
     "text": [
      "Found 38627 validated image filenames belonging to 2 classes.\n",
      "Found 38627 validated image filenames belonging to 2 classes.\n"
     ]
    }
   ],
   "source": [
    "test_pairs = pd.read_csv(PATH_TO_TEST_PAIRS)\n",
    "test_generator = CustomGen(test_pairs, shuffle=True, batch_size=BATCH_SIZE, image_size=IMAGE_SIZE)\n",
    "predictions = model.predict(test_generator)"
   ]
  },
  {
   "cell_type": "code",
   "execution_count": 25,
   "metadata": {},
   "outputs": [
    {
     "name": "stdout",
     "output_type": "stream",
     "text": [
      "Test Accuracy: \t 0.46672016982939396\n",
      "Test AP: \t 0.2968365390470042\n",
      "Test AUC: \t 0.786208987236023\n"
     ]
    }
   ],
   "source": [
    "from sklearn.metrics import accuracy_score, f1_score, average_precision_score, auc\n",
    "\n",
    "pred_classifications = list(map(lambda s: 0 if s < .5 else 1, predictions))\n",
    "y_true = test_pairs[\"class_label\"]\n",
    "\n",
    "ap_score = average_precision_score(y_true, predictions)\n",
    "auc_score = auc(y_true, predictions)\n",
    "a_score = accuracy_score(y_true, pred_classifications)\n",
    "\n",
    "print(\"Test Accuracy: \\t\", a_score)\n",
    "print(\"Test AP: \\t\", ap_score)\n",
    "print(\"Test AUC: \\t\", auc_score)"
   ]
  },
  {
   "cell_type": "code",
   "execution_count": null,
   "metadata": {},
   "outputs": [],
   "source": []
  }
 ],
 "metadata": {
  "kernelspec": {
   "display_name": "Python 3",
   "language": "python",
   "name": "python3"
  },
  "language_info": {
   "codemirror_mode": {
    "name": "ipython",
    "version": 3
   },
   "file_extension": ".py",
   "mimetype": "text/x-python",
   "name": "python",
   "nbconvert_exporter": "python",
   "pygments_lexer": "ipython3",
   "version": "3.8.6"
  }
 },
 "nbformat": 4,
 "nbformat_minor": 4
}
