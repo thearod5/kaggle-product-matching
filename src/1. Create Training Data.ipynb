{
 "cells": [
  {
   "cell_type": "code",
   "execution_count": 1,
   "metadata": {},
   "outputs": [],
   "source": [
    "LOCAL_RUN = True"
   ]
  },
  {
   "cell_type": "markdown",
   "metadata": {
    "id": "H8xU6hGX_vPD"
   },
   "source": [
    "# Problem Definition\n",
    "The following notebook is intended to create the training data for enabling an image classifier to be able to give a relatedness score between any two images. Namely, given two images **a** and **b** the classifier should be training to handle the following cases:\n",
    "\n",
    "1. **a** is the same product as **b**\n",
    "2. **a** is a similar product to **b** but different \n",
    "3. **a** is completely different to **b**\n",
    "\n",
    "The problem is that we are given a list of images and their corresponding classes (about 11k) so negative (unrelated) examples are plentiful but related examples are sparse. Some of these problems can be mitigated with data augmentation and data balancing. However, the problem this notebook solves is that of **carefully choosing meaningful negative examples to complement the positive ones.**"
   ]
  },
  {
   "cell_type": "code",
   "execution_count": 2,
   "metadata": {
    "id": "Hlt5b44UBGCF"
   },
   "outputs": [],
   "source": [
    "# from google.colab import drive\n",
    "import os\n",
    "import pandas as pd\n",
    "import numpy as np\n",
    "from meta.paths import PATH_TO_DATA"
   ]
  },
  {
   "cell_type": "code",
   "execution_count": 3,
   "metadata": {
    "colab": {
     "base_uri": "https://localhost:8080/"
    },
    "id": "55oOslueYb31",
    "outputId": "5926630c-cf33-40c1-a51f-4d97d88416a9"
   },
   "outputs": [],
   "source": [
    "if not LOCAL_RUN:\n",
    "    drive.mount('/content/drive')\n",
    "    %cd /content/drive/MyDrive/csc566-images/\n",
    "    PATH_TO_DATA = \".\""
   ]
  },
  {
   "cell_type": "markdown",
   "metadata": {},
   "source": [
    "# 1. Import Training Data"
   ]
  },
  {
   "cell_type": "code",
   "execution_count": 4,
   "metadata": {
    "colab": {
     "base_uri": "https://localhost:8080/",
     "height": 513
    },
    "id": "uNiPVVkLaoMG",
    "outputId": "96a73daa-cda0-4d0a-ff15-48a409408597"
   },
   "outputs": [
    {
     "data": {
      "text/html": [
       "<div>\n",
       "<style scoped>\n",
       "    .dataframe tbody tr th:only-of-type {\n",
       "        vertical-align: middle;\n",
       "    }\n",
       "\n",
       "    .dataframe tbody tr th {\n",
       "        vertical-align: top;\n",
       "    }\n",
       "\n",
       "    .dataframe thead th {\n",
       "        text-align: right;\n",
       "    }\n",
       "</style>\n",
       "<table border=\"1\" class=\"dataframe\">\n",
       "  <thead>\n",
       "    <tr style=\"text-align: right;\">\n",
       "      <th></th>\n",
       "      <th>posting_id</th>\n",
       "      <th>image</th>\n",
       "      <th>image_phash</th>\n",
       "      <th>title</th>\n",
       "      <th>label_group</th>\n",
       "      <th>target</th>\n",
       "      <th>oof</th>\n",
       "    </tr>\n",
       "  </thead>\n",
       "  <tbody>\n",
       "    <tr>\n",
       "      <th>0</th>\n",
       "      <td>train_129225211</td>\n",
       "      <td>0000a68812bc7e98c42888dfb1c07da0.jpg</td>\n",
       "      <td>94974f937d4c2433</td>\n",
       "      <td>Paper Bag Victoria Secret</td>\n",
       "      <td>249114794</td>\n",
       "      <td>[train_129225211, train_2278313361]</td>\n",
       "      <td>[train_129225211]</td>\n",
       "    </tr>\n",
       "    <tr>\n",
       "      <th>1</th>\n",
       "      <td>train_3386243561</td>\n",
       "      <td>00039780dfc94d01db8676fe789ecd05.jpg</td>\n",
       "      <td>af3f9460c2838f0f</td>\n",
       "      <td>Double Tape 3M VHB 12 mm x 4,5 m ORIGINAL / DO...</td>\n",
       "      <td>2937985045</td>\n",
       "      <td>[train_3386243561, train_3423213080]</td>\n",
       "      <td>[train_3386243561]</td>\n",
       "    </tr>\n",
       "    <tr>\n",
       "      <th>2</th>\n",
       "      <td>train_2288590299</td>\n",
       "      <td>000a190fdd715a2a36faed16e2c65df7.jpg</td>\n",
       "      <td>b94cb00ed3e50f78</td>\n",
       "      <td>Maling TTS Canned Pork Luncheon Meat 397 gr</td>\n",
       "      <td>2395904891</td>\n",
       "      <td>[train_2288590299, train_3803689425]</td>\n",
       "      <td>[train_2288590299]</td>\n",
       "    </tr>\n",
       "    <tr>\n",
       "      <th>3</th>\n",
       "      <td>train_2406599165</td>\n",
       "      <td>00117e4fc239b1b641ff08340b429633.jpg</td>\n",
       "      <td>8514fc58eafea283</td>\n",
       "      <td>Daster Batik Lengan pendek - Motif Acak / Camp...</td>\n",
       "      <td>4093212188</td>\n",
       "      <td>[train_2406599165, train_3342059966]</td>\n",
       "      <td>[train_2406599165]</td>\n",
       "    </tr>\n",
       "    <tr>\n",
       "      <th>4</th>\n",
       "      <td>train_3369186413</td>\n",
       "      <td>00136d1cf4edede0203f32f05f660588.jpg</td>\n",
       "      <td>a6f319f924ad708c</td>\n",
       "      <td>Nescafe \\xc3\\x89clair Latte 220ml</td>\n",
       "      <td>3648931069</td>\n",
       "      <td>[train_3369186413, train_921438619]</td>\n",
       "      <td>[train_3369186413]</td>\n",
       "    </tr>\n",
       "  </tbody>\n",
       "</table>\n",
       "</div>"
      ],
      "text/plain": [
       "         posting_id                                 image       image_phash  \\\n",
       "0   train_129225211  0000a68812bc7e98c42888dfb1c07da0.jpg  94974f937d4c2433   \n",
       "1  train_3386243561  00039780dfc94d01db8676fe789ecd05.jpg  af3f9460c2838f0f   \n",
       "2  train_2288590299  000a190fdd715a2a36faed16e2c65df7.jpg  b94cb00ed3e50f78   \n",
       "3  train_2406599165  00117e4fc239b1b641ff08340b429633.jpg  8514fc58eafea283   \n",
       "4  train_3369186413  00136d1cf4edede0203f32f05f660588.jpg  a6f319f924ad708c   \n",
       "\n",
       "                                               title  label_group  \\\n",
       "0                          Paper Bag Victoria Secret    249114794   \n",
       "1  Double Tape 3M VHB 12 mm x 4,5 m ORIGINAL / DO...   2937985045   \n",
       "2        Maling TTS Canned Pork Luncheon Meat 397 gr   2395904891   \n",
       "3  Daster Batik Lengan pendek - Motif Acak / Camp...   4093212188   \n",
       "4                  Nescafe \\xc3\\x89clair Latte 220ml   3648931069   \n",
       "\n",
       "                                 target                 oof  \n",
       "0   [train_129225211, train_2278313361]   [train_129225211]  \n",
       "1  [train_3386243561, train_3423213080]  [train_3386243561]  \n",
       "2  [train_2288590299, train_3803689425]  [train_2288590299]  \n",
       "3  [train_2406599165, train_3342059966]  [train_2406599165]  \n",
       "4   [train_3369186413, train_921438619]  [train_3369186413]  "
      ]
     },
     "execution_count": 4,
     "metadata": {},
     "output_type": "execute_result"
    }
   ],
   "source": [
    "path_to_training_data = os.path.join(PATH_TO_DATA, \"train.csv\")\n",
    "train_df = pd.read_csv(path_to_training_data)\n",
    "train_df['target'] = train_df.label_group.map(train_df.groupby('label_group').posting_id.agg('unique').to_dict())\n",
    "train_df['oof'] = train_df.image_phash.map(train_df.groupby('image_phash').posting_id.agg('unique').to_dict())\n",
    "train_df['target'] = train_df['target'].apply(list)\n",
    "train_df.head()"
   ]
  },
  {
   "cell_type": "markdown",
   "metadata": {},
   "source": [
    "# 2. Split Images into Test and Train"
   ]
  },
  {
   "cell_type": "code",
   "execution_count": 5,
   "metadata": {},
   "outputs": [],
   "source": [
    "from sklearn.model_selection import train_test_split\n",
    "x_train, x_test, y_train, y_test = train_test_split(train_df[[\"image\", \"title\", \"label_group\"]],\n",
    "                                                    train_df['label_group'],\n",
    "                                                    stratify=train_df['label_group'],\n",
    "                                                    test_size=.33) # minimum percentage to cover all possible classes"
   ]
  },
  {
   "cell_type": "code",
   "execution_count": 6,
   "metadata": {},
   "outputs": [],
   "source": [
    "test_groups = x_test[\"label_group\"].unique()\n",
    "train_groups = x_train[\"label_group\"].unique()\n",
    "groups_missing_in_train = [test_g for test_g in test_groups if test_g not in train_groups]\n",
    "assert len(groups_missing_in_train) == 0"
   ]
  },
  {
   "cell_type": "code",
   "execution_count": 7,
   "metadata": {},
   "outputs": [],
   "source": [
    "x_test.to_csv(os.path.join(PATH_TO_DATA, \"x_test.csv\"), index=False)\n",
    "y_test.to_csv(os.path.join(PATH_TO_DATA, \"y_test.csv\"), index=False)"
   ]
  },
  {
   "cell_type": "markdown",
   "metadata": {
    "id": "Eo3ylDz7Dva9"
   },
   "source": [
    "# 3. Create Image Pairs\n",
    "This section is responsible for creating a set of *useful* image pairs from the training images.\n",
    "It is inevitable that the number of unrelated image pairs far exceeds the number of related image pairs. Therefore,\n",
    "in our quest we require an **roughly** equal number of related and unrelated image pairs, we are faced with selecting only a subset of all negative pairs. In theory these can be choosen randomly or psuedo-randomly, of which we opt for the latter. Namely, we select negative pairs by selecting the images whose posts titles have the highest similarity using a TfidfVectorizer trained on the all titles."
   ]
  },
  {
   "cell_type": "code",
   "execution_count": 8,
   "metadata": {},
   "outputs": [],
   "source": [
    "from sklearn.feature_extraction.text import TfidfVectorizer\n",
    "from sklearn.metrics.pairwise import cosine_similarity\n",
    "from preprocessing.image_pair_creator import calculate_title_similarities, create_negative_pairs, create_positive_pairs\n",
    "\n",
    "from meta.paths import PATH_TO_TEST_PAIRS, PATH_TO_TRAIN_PAIRS"
   ]
  },
  {
   "cell_type": "code",
   "execution_count": 9,
   "metadata": {},
   "outputs": [],
   "source": [
    "def oversample_data(data_df, n_items):\n",
    "    current_n_items = len(data_df)\n",
    "    n_full_copies = n_items // current_n_items\n",
    "    n_remaining = n_items % current_n_items\n",
    "    balanced_df = data_df\n",
    "    for i in range(n_full_copies-1):\n",
    "        balanced_df = pd.concat([balanced_df, data_df], axis=0)\n",
    "    return pd.concat([balanced_df, data_df.sample(n=n_remaining)], axis=0)"
   ]
  },
  {
   "cell_type": "markdown",
   "metadata": {},
   "source": [
    "### Training Data"
   ]
  },
  {
   "cell_type": "code",
   "execution_count": 10,
   "metadata": {
    "id": "oJaiAK8DDl3m"
   },
   "outputs": [],
   "source": [
    "# negative_examples_df = create_negative_pairs(x_train)\n",
    "# positive_examples_df = create_positive_pairs(x_train)\n",
    "# train_image_pairs_df = pd.concat([oversample_data(positive_examples_df, len(negative_examples_df)),\n",
    "#                                   negative_examples_df], axis=0)\n",
    "# print(len(train_image_pairs_df))\n",
    "# train_image_pairs_df.to_csv(PATH_TO_TRAIN_PAIRS, index=False)\n",
    "# train_image_pairs_df.head()"
   ]
  },
  {
   "cell_type": "markdown",
   "metadata": {},
   "source": [
    "### Testing Data"
   ]
  },
  {
   "cell_type": "code",
   "execution_count": 12,
   "metadata": {},
   "outputs": [
    {
     "name": "stdout",
     "output_type": "stream",
     "text": [
      "38627\n"
     ]
    },
    {
     "data": {
      "text/html": [
       "<div>\n",
       "<style scoped>\n",
       "    .dataframe tbody tr th:only-of-type {\n",
       "        vertical-align: middle;\n",
       "    }\n",
       "\n",
       "    .dataframe tbody tr th {\n",
       "        vertical-align: top;\n",
       "    }\n",
       "\n",
       "    .dataframe thead th {\n",
       "        text-align: right;\n",
       "    }\n",
       "</style>\n",
       "<table border=\"1\" class=\"dataframe\">\n",
       "  <thead>\n",
       "    <tr style=\"text-align: right;\">\n",
       "      <th></th>\n",
       "      <th>class_label</th>\n",
       "      <th>source_image</th>\n",
       "      <th>target_image</th>\n",
       "      <th>type</th>\n",
       "    </tr>\n",
       "  </thead>\n",
       "  <tbody>\n",
       "    <tr>\n",
       "      <th>0</th>\n",
       "      <td>1.0</td>\n",
       "      <td>9c9c47e0c18601b918341ca934530b7a.jpg</td>\n",
       "      <td>9c9c47e0c18601b918341ca934530b7a.jpg</td>\n",
       "      <td>RELATED</td>\n",
       "    </tr>\n",
       "    <tr>\n",
       "      <th>1</th>\n",
       "      <td>1.0</td>\n",
       "      <td>9c9c47e0c18601b918341ca934530b7a.jpg</td>\n",
       "      <td>616b589a518cdf9eacca88b5aee654ac.jpg</td>\n",
       "      <td>RELATED</td>\n",
       "    </tr>\n",
       "    <tr>\n",
       "      <th>2</th>\n",
       "      <td>1.0</td>\n",
       "      <td>9c9c47e0c18601b918341ca934530b7a.jpg</td>\n",
       "      <td>f0cc3fb25f41eb9f8b092ca48da6725b.jpg</td>\n",
       "      <td>RELATED</td>\n",
       "    </tr>\n",
       "    <tr>\n",
       "      <th>3</th>\n",
       "      <td>1.0</td>\n",
       "      <td>31ec2189cd89ae8f8f851b7b64286469.jpg</td>\n",
       "      <td>31ec2189cd89ae8f8f851b7b64286469.jpg</td>\n",
       "      <td>RELATED</td>\n",
       "    </tr>\n",
       "    <tr>\n",
       "      <th>4</th>\n",
       "      <td>1.0</td>\n",
       "      <td>31ec2189cd89ae8f8f851b7b64286469.jpg</td>\n",
       "      <td>852b167576a74fcfba7f1a999071d7cb.jpg</td>\n",
       "      <td>RELATED</td>\n",
       "    </tr>\n",
       "  </tbody>\n",
       "</table>\n",
       "</div>"
      ],
      "text/plain": [
       "   class_label                          source_image  \\\n",
       "0          1.0  9c9c47e0c18601b918341ca934530b7a.jpg   \n",
       "1          1.0  9c9c47e0c18601b918341ca934530b7a.jpg   \n",
       "2          1.0  9c9c47e0c18601b918341ca934530b7a.jpg   \n",
       "3          1.0  31ec2189cd89ae8f8f851b7b64286469.jpg   \n",
       "4          1.0  31ec2189cd89ae8f8f851b7b64286469.jpg   \n",
       "\n",
       "                           target_image     type  \n",
       "0  9c9c47e0c18601b918341ca934530b7a.jpg  RELATED  \n",
       "1  616b589a518cdf9eacca88b5aee654ac.jpg  RELATED  \n",
       "2  f0cc3fb25f41eb9f8b092ca48da6725b.jpg  RELATED  \n",
       "3  31ec2189cd89ae8f8f851b7b64286469.jpg  RELATED  \n",
       "4  852b167576a74fcfba7f1a999071d7cb.jpg  RELATED  "
      ]
     },
     "execution_count": 12,
     "metadata": {},
     "output_type": "execute_result"
    }
   ],
   "source": [
    "test_negative_pairs = create_negative_pairs(x_test)\n",
    "test_positive_pairs = create_positive_pairs(x_test)\n",
    "test_pairs_df = pd.concat([test_positive_pairs,\n",
    "                                  test_negative_pairs], axis=0)\n",
    "print(len(test_pairs_df))\n",
    "test_pairs_df.to_csv(PATH_TO_TEST_PAIRS, index=False)\n",
    "test_pairs_df.head()"
   ]
  },
  {
   "cell_type": "markdown",
   "metadata": {
    "id": "1AvyWO7zMkJx"
   },
   "source": [
    " # Dataset Statistics\n",
    " * What is the distribution of classes?\n",
    " * What does each class and their variants look like (e.g. related, similar, and not similar)"
   ]
  },
  {
   "cell_type": "code",
   "execution_count": null,
   "metadata": {},
   "outputs": [],
   "source": [
    "from matplotlib import pyplot as plt"
   ]
  },
  {
   "cell_type": "markdown",
   "metadata": {},
   "source": [
    "### Training Data"
   ]
  },
  {
   "cell_type": "code",
   "execution_count": null,
   "metadata": {
    "id": "4_glNcVzPd_k"
   },
   "outputs": [],
   "source": [
    "train_image_pairs_df[\"class_label\"].value_counts().plot.bar(title='Number of Image Pairs per Class')"
   ]
  },
  {
   "cell_type": "code",
   "execution_count": null,
   "metadata": {},
   "outputs": [],
   "source": [
    "train_image_pairs_df[\"type\"].value_counts().plot.bar(title='Number of Image Pairs per Class Variant')"
   ]
  },
  {
   "cell_type": "markdown",
   "metadata": {},
   "source": [
    "### Testing Data"
   ]
  },
  {
   "cell_type": "code",
   "execution_count": 13,
   "metadata": {},
   "outputs": [
    {
     "data": {
      "text/plain": [
       "<AxesSubplot:title={'center':'Number of Image Pairs per Class'}>"
      ]
     },
     "execution_count": 13,
     "metadata": {},
     "output_type": "execute_result"
    },
    {
     "data": {
      "image/png": "[encoded data removed]",
      "text/plain": [
       "<Figure size 432x288 with 1 Axes>"
      ]
     },
     "metadata": {
      "needs_background": "light"
     },
     "output_type": "display_data"
    }
   ],
   "source": [
    "test_pairs_df[\"class_label\"].value_counts().plot.bar(title='Number of Image Pairs per Class')"
   ]
  },
  {
   "cell_type": "code",
   "execution_count": 14,
   "metadata": {},
   "outputs": [
    {
     "data": {
      "text/plain": [
       "<AxesSubplot:title={'center':'Number of Image Pairs per Class Variant'}>"
      ]
     },
     "execution_count": 14,
     "metadata": {},
     "output_type": "execute_result"
    },
    {
     "data": {
      "image/png": "[encoded data removed]",
      "text/plain": [
       "<Figure size 432x288 with 1 Axes>"
      ]
     },
     "metadata": {
      "needs_background": "light"
     },
     "output_type": "display_data"
    }
   ],
   "source": [
    "test_pairs_df[\"type\"].value_counts().plot.bar(title='Number of Image Pairs per Class Variant')"
   ]
  },
  {
   "cell_type": "code",
   "execution_count": null,
   "metadata": {},
   "outputs": [],
   "source": []
  }
 ],
 "metadata": {
  "colab": {
   "collapsed_sections": [],
   "machine_shape": "hm",
   "name": "CSC 566 - Creating balanced training data.ipynb",
   "provenance": []
  },
  "kernelspec": {
   "display_name": "Python 3",
   "language": "python",
   "name": "python3"
  },
  "language_info": {
   "codemirror_mode": {
    "name": "ipython",
    "version": 3
   },
   "file_extension": ".py",
   "mimetype": "text/x-python",
   "name": "python",
   "nbconvert_exporter": "python",
   "pygments_lexer": "ipython3",
   "version": "3.8.6"
  }
 },
 "nbformat": 4,
 "nbformat_minor": 1
}
