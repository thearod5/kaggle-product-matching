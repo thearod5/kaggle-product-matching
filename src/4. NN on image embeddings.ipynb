{
 "cells": [
  {
   "cell_type": "code",
   "execution_count": 4,
   "metadata": {},
   "outputs": [],
   "source": [
    "import os\n",
    "from meta.paths import PATH_TO_DATA, PATH_TO_TRAINING_IMAGES"
   ]
  },
  {
   "cell_type": "markdown",
   "metadata": {},
   "source": [
    "# NN on image embeddings"
   ]
  },
  {
   "cell_type": "code",
   "execution_count": 1,
   "metadata": {},
   "outputs": [],
   "source": [
    "# Load the model and get the feature layer\n",
    "import tensorflow.keras as keras"
   ]
  },
  {
   "cell_type": "code",
   "execution_count": 2,
   "metadata": {},
   "outputs": [],
   "source": [
    "model = keras.models.load_model(\"model.h5\")\n",
    "model = model.layers[2]"
   ]
  },
  {
   "cell_type": "code",
   "execution_count": 37,
   "metadata": {},
   "outputs": [],
   "source": [
    "# from tensorflow.keras.applications import EfficientNetB0\n",
    "# model = EfficientNetB0(weights='imagenet',include_top=False, pooling='avg', input_shape=None)"
   ]
  },
  {
   "cell_type": "code",
   "execution_count": 33,
   "metadata": {},
   "outputs": [],
   "source": [
    "# from tensorflow.keras.applications import VGG16\n",
    "# model = VGG16(weights='imagenet',include_top=False, pooling='avg', input_shape=None)"
   ]
  },
  {
   "cell_type": "code",
   "execution_count": 25,
   "metadata": {},
   "outputs": [],
   "source": [
    "# Read training data; need to change this to not include test data\n",
    "import pandas as pd\n",
    "path_to_training_data = os.path.join(PATH_TO_DATA, \"subset_test.csv\")\n",
    "train_df = pd.read_csv(path_to_training_data)\n",
    "train_df['target'] = train_df.label_group.map(train_df.groupby('label_group').posting_id.agg('unique').to_dict())\n",
    "train_df['target'] = train_df['target'].apply(list)"
   ]
  },
  {
   "cell_type": "code",
   "execution_count": 39,
   "metadata": {},
   "outputs": [
    {
     "name": "stdout",
     "output_type": "stream",
     "text": [
      "Found 3423 validated image filenames belonging to 3423 classes.\n"
     ]
    }
   ],
   "source": [
    "# Get image embeddings\n",
    "from preprocessing.data_generator import build_plain_generator\n",
    "generator = build_plain_generator()\n",
    "image_embeddings = model.predict(generator.flow_from_dataframe(train_df, x_col='image', target_size=(100, 100), y_col='target', directory=PATH_TO_TRAINING_IMAGES))"
   ]
  },
  {
   "cell_type": "code",
   "execution_count": 27,
   "metadata": {},
   "outputs": [],
   "source": [
    "# Get 50 nearest neighbors\n",
    "from sklearn.neighbors import NearestNeighbors\n",
    "KNN = 50\n",
    "\n",
    "def get_nn_distances(embeddings):\n",
    "    model = NearestNeighbors(n_neighbors=KNN, metric='cosine')\n",
    "    model.fit(embeddings)\n",
    "    distances, indices = model.kneighbors(embeddings)\n",
    "    return distances, indices\n",
    "\n",
    "distances, indices = get_nn_distances(image_embeddings)"
   ]
  },
  {
   "cell_type": "code",
   "execution_count": 28,
   "metadata": {},
   "outputs": [
    {
     "data": {
      "text/plain": [
       "0.9054594"
      ]
     },
     "execution_count": 28,
     "metadata": {},
     "output_type": "execute_result"
    }
   ],
   "source": [
    "distances.max()"
   ]
  },
  {
   "cell_type": "code",
   "execution_count": 15,
   "metadata": {},
   "outputs": [],
   "source": [
    "# Predictions\n",
    "def predict_knn(df, distances, indices, threshold):\n",
    "    def predict(row):\n",
    "        for i, val in enumerate(distances[row]):\n",
    "            if val > threshold:\n",
    "                break\n",
    "        neighbor_indices = indices[row][:i]\n",
    "        return list(df.iloc[neighbor_indices]['posting_id'])\n",
    "    return [predict(i) for i in range(len(train_df))]\n",
    "train_df['preds'] = predict_knn(train_df, distances, indices, .05)"
   ]
  },
  {
   "cell_type": "code",
   "execution_count": 16,
   "metadata": {},
   "outputs": [
    {
     "name": "stdout",
     "output_type": "stream",
     "text": [
      "CV score = 0.10124382059783311\n"
     ]
    }
   ],
   "source": [
    "import numpy as np\n",
    "def getMetric(col):\n",
    "    def f1score(row):\n",
    "        n = len(np.intersect1d(row['target'], row[col]))\n",
    "        return 2*n / (len(row['target']) + len(row[col]))\n",
    "    return f1score\n",
    "\n",
    "train_df['f1'] = train_df.apply(getMetric('preds'),axis=1)\n",
    "print('CV score =',train_df['f1'].mean())"
   ]
  },
  {
   "cell_type": "code",
   "execution_count": 36,
   "metadata": {},
   "outputs": [
    {
     "name": "stdout",
     "output_type": "stream",
     "text": [
      "threshold 1e-09: f1=0.4621050239476637\n",
      "threshold 2e-09: f1=0.4621050239476637\n",
      "threshold 3.0000000000000004e-09: f1=0.4621050239476637\n",
      "threshold 4e-09: f1=0.4621050239476637\n",
      "threshold 5e-09: f1=0.4621050239476637\n",
      "threshold 6e-09: f1=0.4621050239476637\n",
      "threshold 7.000000000000001e-09: f1=0.4621050239476637\n",
      "threshold 8e-09: f1=0.4621050239476637\n",
      "threshold 9.000000000000001e-09: f1=0.4621050239476637\n"
     ]
    }
   ],
   "source": [
    "for threshold in np.arange(.000000001, .00000001, .000000001):\n",
    "    train_df['preds'] = predict_knn(train_df, distances, indices, threshold)\n",
    "    train_df['f1'] = train_df.apply(getMetric('preds'),axis=1)\n",
    "    print(f'threshold {threshold}: f1={train_df[\"f1\"].mean()}')"
   ]
  },
  {
   "cell_type": "code",
   "execution_count": null,
   "metadata": {},
   "outputs": [],
   "source": []
  }
 ],
 "metadata": {
  "kernelspec": {
   "display_name": "Python 3",
   "language": "python",
   "name": "python3"
  },
  "language_info": {
   "codemirror_mode": {
    "name": "ipython",
    "version": 3
   },
   "file_extension": ".py",
   "mimetype": "text/x-python",
   "name": "python",
   "nbconvert_exporter": "python",
   "pygments_lexer": "ipython3",
   "version": "3.7.10"
  }
 },
 "nbformat": 4,
 "nbformat_minor": 4
}
