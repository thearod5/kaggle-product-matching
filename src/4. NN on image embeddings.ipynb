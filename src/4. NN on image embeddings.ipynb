{
 "cells": [
  {
   "cell_type": "code",
   "execution_count": 4,
   "metadata": {},
   "outputs": [],
   "source": [
    "import os\n",
    "from meta.paths import PATH_TO_DATA, PATH_TO_TRAINING_IMAGES"
   ]
  },
  {
   "cell_type": "markdown",
   "metadata": {},
   "source": [
    "# NN on image embeddings"
   ]
  },
  {
   "cell_type": "code",
   "execution_count": 2,
   "metadata": {},
   "outputs": [],
   "source": [
    "# Load the model and get the feature layer\n",
    "import tensorflow.keras as keras\n",
    "model = keras.models.load_model(\"model.h5\")\n",
    "feature_layer = model.layers[2]"
   ]
  },
  {
   "cell_type": "code",
   "execution_count": 5,
   "metadata": {},
   "outputs": [],
   "source": [
    "# Read training data; need to change this to not include test data\n",
    "import pandas as pd\n",
    "path_to_training_data = os.path.join(PATH_TO_DATA, \"train.csv\")\n",
    "train_df = pd.read_csv(path_to_training_data)\n",
    "train_df['target'] = train_df.label_group.map(train_df.groupby('label_group').posting_id.agg('unique').to_dict())\n",
    "train_df['target'] = train_df['target'].apply(list)"
   ]
  },
  {
   "cell_type": "code",
   "execution_count": 6,
   "metadata": {},
   "outputs": [
    {
     "name": "stdout",
     "output_type": "stream",
     "text": [
      "Found 34250 validated image filenames belonging to 34250 classes.\n"
     ]
    }
   ],
   "source": [
    "# Get image embeddings\n",
    "from preprocessing.data_generator import build_plain_generator\n",
    "generator = build_plain_generator()\n",
    "image_embeddings = feature_layer.predict(generator.flow_from_dataframe(train_df, x_col='image', target_size=(100, 100), y_col='target', directory=PATH_TO_TRAINING_IMAGES))"
   ]
  },
  {
   "cell_type": "code",
   "execution_count": 8,
   "metadata": {},
   "outputs": [],
   "source": [
    "# Get 50 nearest neighbors\n",
    "from sklearn.neighbors import NearestNeighbors\n",
    "KNN = 50\n",
    "model = NearestNeighbors(n_neighbors=KNN)\n",
    "model.fit(image_embeddings)\n",
    "distances, indices = model.kneighbors(image_embeddings)"
   ]
  },
  {
   "cell_type": "code",
   "execution_count": 25,
   "metadata": {},
   "outputs": [],
   "source": [
    "# Predictions\n",
    "THRESHOLD = .1\n",
    "def predict(df, row, distances, indices):\n",
    "    for i, val in enumerate(distances[row]):\n",
    "        if val > THRESHOLD:\n",
    "            break\n",
    "    neighbor_indices = indices[row][:i]\n",
    "    return list(df.iloc[neighbor_indices]['posting_id'])\n",
    "train_df['preds'] = [predict(train_df, i, distances, indices) for i in range(len(train_df))]"
   ]
  },
  {
   "cell_type": "code",
   "execution_count": 27,
   "metadata": {},
   "outputs": [
    {
     "data": {
      "text/plain": [
       "0                                        [train_129225211]\n",
       "1                                       [train_3386243561]\n",
       "2        [train_2288590299, train_1580839663, train_351...\n",
       "3                                       [train_2406599165]\n",
       "4                                       [train_3369186413]\n",
       "                               ...                        \n",
       "34245                                   [train_4028265689]\n",
       "34246    [train_769054909, train_3515199340, train_1143...\n",
       "34247                                    [train_614977732]\n",
       "34248                                   [train_3630949769]\n",
       "34249                                   [train_1792180725]\n",
       "Name: preds, Length: 34250, dtype: object"
      ]
     },
     "execution_count": 27,
     "metadata": {},
     "output_type": "execute_result"
    }
   ],
   "source": [
    "train_df['preds']"
   ]
  },
  {
   "cell_type": "code",
   "execution_count": 30,
   "metadata": {},
   "outputs": [
    {
     "name": "stdout",
     "output_type": "stream",
     "text": [
      "CV score = 0.3869275355788712\n"
     ]
    }
   ],
   "source": [
    "import numpy as np\n",
    "def getMetric(col):\n",
    "    def f1score(row):\n",
    "        n = len( np.intersect1d(row.target,row[col]) )\n",
    "        return 2*n / (len(row.target)+len(row[col]))\n",
    "    return f1score\n",
    "\n",
    "train_df['f1'] = train_df.apply(getMetric('preds'),axis=1)\n",
    "print('CV score =',train_df.f1.mean())"
   ]
  },
  {
   "cell_type": "code",
   "execution_count": null,
   "metadata": {},
   "outputs": [],
   "source": []
  }
 ],
 "metadata": {
  "kernelspec": {
   "display_name": "Python 3",
   "language": "python",
   "name": "python3"
  },
  "language_info": {
   "codemirror_mode": {
    "name": "ipython",
    "version": 3
   },
   "file_extension": ".py",
   "mimetype": "text/x-python",
   "name": "python",
   "nbconvert_exporter": "python",
   "pygments_lexer": "ipython3",
   "version": "3.6.9"
  }
 },
 "nbformat": 4,
 "nbformat_minor": 4
}
